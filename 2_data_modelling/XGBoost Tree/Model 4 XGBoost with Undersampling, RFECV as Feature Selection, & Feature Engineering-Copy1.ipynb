{
 "cells": [
  {
   "cell_type": "markdown",
   "id": "b44f6fc8",
   "metadata": {},
   "source": [
    "# Workflow"
   ]
  },
  {
   "cell_type": "code",
   "execution_count": 1,
   "id": "b9db5bb4",
   "metadata": {},
   "outputs": [],
   "source": [
    "import os\n",
    "from joblib import dump\n",
    "from pathlib import Path\n",
    "\n",
    "import pandas as pd\n",
    "from pathlib import Path\n",
    "from sklearn.model_selection import train_test_split\n",
    "from sklearn.model_selection import StratifiedKFold\n",
    "from sklearn.preprocessing import OrdinalEncoder, StandardScaler\n",
    "from sklearn.utils import resample\n",
    "from sklearn.metrics import classification_report, roc_auc_score, roc_curve, auc, precision_recall_curve, average_precision_score\n",
    "from sklearn.metrics import accuracy_score, precision_score, recall_score, f1_score, confusion_matrix\n",
    "from sklearn.model_selection import KFold\n",
    "from sklearn.linear_model import LogisticRegression\n",
    "from sklearn.preprocessing import LabelEncoder\n",
    "from sklearn.feature_selection import RFECV\n",
    "\n",
    "import matplotlib.pyplot as plt\n",
    "import seaborn as sns\n",
    "\n",
    "import statsmodels.api as sm\n",
    "import numpy as np\n",
    "\n",
    "from imblearn.over_sampling import SMOTE\n",
    "import time\n",
    "from scipy.stats import loguniform, randint\n",
    "from yellowbrick.model_selection import RFECV\n",
    "from scipy.stats import loguniform, randint\n",
    "from sklearn.model_selection import RandomizedSearchCV\n",
    "import warnings\n",
    "from imblearn.under_sampling import RandomUnderSampler"
   ]
  },
  {
   "cell_type": "code",
   "execution_count": 2,
   "id": "405f53ca",
   "metadata": {},
   "outputs": [],
   "source": [
    "# Set up directory\n",
    "os.chdir(\"/home/siti/Downloads/New Modelling\")\n",
    "\n",
    "# Load the CSV data into a pandas DataFrame\n",
    "df = pd.read_csv('AE_Synthetic_Data_Final_V02.csv')"
   ]
  },
  {
   "cell_type": "code",
   "execution_count": 3,
   "id": "9e0b644e",
   "metadata": {},
   "outputs": [
    {
     "name": "stdout",
     "output_type": "stream",
     "text": [
      "Short stay    11942983\n",
      "Long stay       779233\n",
      "Name: LOS_Category, dtype: int64\n"
     ]
    }
   ],
   "source": [
    "print(df[\"LOS_Category\"].value_counts())"
   ]
  },
  {
   "cell_type": "code",
   "execution_count": 4,
   "id": "c1843ee9",
   "metadata": {},
   "outputs": [],
   "source": [
    "results_folder = Path(\"XGBoost_folder/Version 2/Model 4\")\n",
    "results_folder.mkdir(parents=True, exist_ok=True) "
   ]
  },
  {
   "cell_type": "markdown",
   "id": "78ed00b9",
   "metadata": {},
   "source": [
    "# Feature Engineering\n",
    "\n",
    "## 1. AE_Arrive_HourOfDay"
   ]
  },
  {
   "cell_type": "code",
   "execution_count": 5,
   "id": "e47b8526",
   "metadata": {},
   "outputs": [
    {
     "name": "stdout",
     "output_type": "stream",
     "text": [
      "        IMD_Category Age_Band     Sex AE_Arrive_HourOfDay  AE_Time_Mins  \\\n",
      "0  Most deprived 20%    65-84    Male             Evening           210   \n",
      "1          20% - 40%      85+  Female             Evening           240   \n",
      "2          60% - 80%    65-84  Female             Morning           160   \n",
      "3  Most deprived 20%    65-84    Male             Evening           310   \n",
      "4  Most deprived 20%    45-64    Male             Evening           210   \n",
      "\n",
      "    AE_HRG  AE_Num_Diagnoses  AE_Num_Investigations  AE_Num_Treatments  \\\n",
      "0     High                 1                      5                  3   \n",
      "1      Low                 1                     10                 10   \n",
      "2  Nothing                 0                      1                  1   \n",
      "3      Low                 0                      1                  3   \n",
      "4     High                 4                      4                  4   \n",
      "\n",
      "  AE_Arrival_Mode ICD10_Chapter_Code    TFC LOS_Category  \n",
      "0       Not known              XVIII    180   Short stay  \n",
      "1           Other                 IX  OTHER   Short stay  \n",
      "2           Other              XVIII    300   Short stay  \n",
      "3       Not known                 IX  OTHER   Short stay  \n",
      "4       Not known                  X  OTHER   Short stay  \n"
     ]
    }
   ],
   "source": [
    "# Define a function to map the time bands to categories\n",
    "def categorize_time_band(band):\n",
    "    if band in ['05-08', '09-12']:\n",
    "        return 'Morning'\n",
    "    elif band in ['13-16', '17-20']:\n",
    "        return 'Evening'\n",
    "    else:  # '01-04', '21-24'\n",
    "        return 'Night'\n",
    "\n",
    "# Apply the function to the Time_band column\n",
    "df['AE_Arrive_HourOfDay'] = df['AE_Arrive_HourOfDay'].apply(categorize_time_band)\n",
    "\n",
    "print(df.head())"
   ]
  },
  {
   "cell_type": "markdown",
   "id": "eae794c3",
   "metadata": {},
   "source": [
    "## 2. Number of Treatments\n"
   ]
  },
  {
   "cell_type": "code",
   "execution_count": 6,
   "id": "66a69bd2",
   "metadata": {},
   "outputs": [
    {
     "name": "stdout",
     "output_type": "stream",
     "text": [
      "low       0.459667\n",
      "medium    0.282128\n",
      "high      0.258205\n",
      "Name: AE_Num_Treatments_Cat, dtype: float64\n"
     ]
    }
   ],
   "source": [
    "# Number of Treatments\n",
    "\n",
    "# low : 0, 1, 2\n",
    "# Medium : 3, 4\n",
    "# high = 10,  7,  6,  5,  8,  9\n",
    "\n",
    "df['AE_Num_Treatments_Cat'] = pd.qcut(df['AE_Num_Treatments'], q=3, labels=[\"low\", \"medium\", \"high\"])\n",
    "\n",
    "\n",
    "proportions = df['AE_Num_Treatments_Cat'].value_counts(normalize=True)\n",
    "\n",
    "print(proportions)"
   ]
  },
  {
   "cell_type": "markdown",
   "id": "87769b4a",
   "metadata": {},
   "source": [
    "## 3. Number of Investigation"
   ]
  },
  {
   "cell_type": "code",
   "execution_count": 7,
   "id": "895d2cdb",
   "metadata": {},
   "outputs": [
    {
     "name": "stdout",
     "output_type": "stream",
     "text": [
      "low       0.370985\n",
      "medium    0.352462\n",
      "high      0.276553\n",
      "Name: AE_Num_Investigations_Cat, dtype: float64\n"
     ]
    }
   ],
   "source": [
    "# Number of Investigation\n",
    "\n",
    "# low : [1, 2, 3, 0]\n",
    "# Medium : [5, 4, 6]\n",
    "# high = [10,  8,  7,  9])\n",
    "\n",
    "df['AE_Num_Investigations_Cat'] = pd.qcut(df['AE_Num_Investigations'], q=3, labels=[\"low\", \"medium\", \"high\"])\n",
    "\n",
    "\n",
    "proportions = df['AE_Num_Investigations_Cat'].value_counts(normalize=True)\n",
    "\n",
    "print(proportions)"
   ]
  },
  {
   "cell_type": "markdown",
   "id": "6e1427a3",
   "metadata": {},
   "source": [
    "## 4. Number of Investigations\n",
    "\n",
    "Given the distribution's skewness, it might make sense to use custom bins:\n",
    "\n",
    "- 0 as its own bin (e.g., 'none')\n",
    "- 1 as its own bin (e.g., 'low')\n",
    "- 2-3 (or 2-4) as a medium range\n",
    "- 5-10 as a high range\n",
    "\n",
    "This approach considers the data's natural concentration around 0 and 1 while still differentiating between medium and higher values.\n"
   ]
  },
  {
   "cell_type": "code",
   "execution_count": 8,
   "id": "b6588bd7",
   "metadata": {},
   "outputs": [
    {
     "name": "stdout",
     "output_type": "stream",
     "text": [
      "low       0.646599\n",
      "none      0.242790\n",
      "medium    0.106717\n",
      "high      0.003894\n",
      "Name: AE_Num_Diagnoses_Cat, dtype: float64\n"
     ]
    }
   ],
   "source": [
    "# Number of Investigations\n",
    "\n",
    "# count    1.272222e+07\n",
    "# mean     9.066763e-01\n",
    "# std      7.732276e-01\n",
    "# min      0.000000e+00\n",
    "# 25%      1.000000e+00\n",
    "# 50%      1.000000e+00\n",
    "# 75%      1.000000e+00\n",
    "# max      1.000000e+01\n",
    "\n",
    "\n",
    "def custom_bin(value):\n",
    "    if value == 0:\n",
    "        return 'none'\n",
    "    elif value == 1:\n",
    "        return 'low'\n",
    "    elif 1 < value <= 4:\n",
    "        return 'medium'\n",
    "    else:\n",
    "        return 'high'\n",
    "\n",
    "df['AE_Num_Diagnoses_Cat'] = df['AE_Num_Diagnoses'].apply(custom_bin)\n",
    "\n",
    "print(df['AE_Num_Diagnoses_Cat'].value_counts(normalize=True))\n"
   ]
  },
  {
   "cell_type": "markdown",
   "id": "d70cdb78",
   "metadata": {},
   "source": [
    "- About half of the patients live Close (0-3 miles) to the provider.\n",
    "- A little over a quarter live at a Moderate distance (4-7 miles).\n",
    "- About 17% are Far (8-15 miles).\n",
    "- And around 6.5% are Very Far (>15 miles)."
   ]
  },
  {
   "cell_type": "code",
   "execution_count": 9,
   "id": "d3f2c16a",
   "metadata": {},
   "outputs": [
    {
     "name": "stdout",
     "output_type": "stream",
     "text": [
      "<class 'pandas.core.frame.DataFrame'>\n",
      "RangeIndex: 12722216 entries, 0 to 12722215\n",
      "Data columns (total 13 columns):\n",
      " #   Column                     Dtype   \n",
      "---  ------                     -----   \n",
      " 0   IMD_Category               object  \n",
      " 1   Age_Band                   object  \n",
      " 2   Sex                        object  \n",
      " 3   AE_Arrive_HourOfDay        object  \n",
      " 4   AE_Time_Mins               int64   \n",
      " 5   AE_HRG                     object  \n",
      " 6   AE_Arrival_Mode            object  \n",
      " 7   ICD10_Chapter_Code         object  \n",
      " 8   TFC                        object  \n",
      " 9   LOS_Category               object  \n",
      " 10  AE_Num_Treatments_Cat      category\n",
      " 11  AE_Num_Investigations_Cat  category\n",
      " 12  AE_Num_Diagnoses_Cat       object  \n",
      "dtypes: category(2), int64(1), object(10)\n",
      "memory usage: 1.1+ GB\n"
     ]
    }
   ],
   "source": [
    "# Drop the original columns after caetgorizing number of treatments and diagnoses\n",
    "df2 = df.drop(['AE_Num_Investigations', 'AE_Num_Treatments', 'AE_Num_Diagnoses'], axis=1)\n",
    "\n",
    "df2.info()"
   ]
  },
  {
   "cell_type": "code",
   "execution_count": 10,
   "id": "2959d5b8",
   "metadata": {},
   "outputs": [],
   "source": [
    "# Convert object types to category\n",
    "for col in df.columns:\n",
    "    if df[col].dtype == 'object':\n",
    "        df[col] = df[col].astype('category')"
   ]
  },
  {
   "cell_type": "code",
   "execution_count": 11,
   "id": "86c408d6",
   "metadata": {},
   "outputs": [
    {
     "name": "stdout",
     "output_type": "stream",
     "text": [
      "<class 'pandas.core.frame.DataFrame'>\n",
      "RangeIndex: 12722216 entries, 0 to 12722215\n",
      "Data columns (total 13 columns):\n",
      " #   Column                     Dtype   \n",
      "---  ------                     -----   \n",
      " 0   IMD_Category               object  \n",
      " 1   Age_Band                   object  \n",
      " 2   Sex                        object  \n",
      " 3   AE_Arrive_HourOfDay        object  \n",
      " 4   AE_Time_Mins               int64   \n",
      " 5   AE_HRG                     object  \n",
      " 6   AE_Arrival_Mode            object  \n",
      " 7   ICD10_Chapter_Code         object  \n",
      " 8   TFC                        object  \n",
      " 9   LOS_Category               object  \n",
      " 10  AE_Num_Treatments_Cat      category\n",
      " 11  AE_Num_Investigations_Cat  category\n",
      " 12  AE_Num_Diagnoses_Cat       object  \n",
      "dtypes: category(2), int64(1), object(10)\n",
      "memory usage: 1.1+ GB\n"
     ]
    }
   ],
   "source": [
    "# Create a copy of df for modelling\n",
    "data = df2.copy()\n",
    "data.info()\n"
   ]
  },
  {
   "cell_type": "code",
   "execution_count": 12,
   "id": "237df6f2",
   "metadata": {},
   "outputs": [],
   "source": [
    "data = df.copy()\n",
    "# Define the features and target\n",
    "feature_cols = data.columns[data.columns != 'LOS_Category']\n",
    "X = data[feature_cols]\n",
    "y = data['LOS_Category']\n"
   ]
  },
  {
   "cell_type": "markdown",
   "id": "af639608",
   "metadata": {},
   "source": [
    "# Step 1: Map the Outcome Variable"
   ]
  },
  {
   "cell_type": "code",
   "execution_count": 13,
   "id": "d8b93086",
   "metadata": {},
   "outputs": [],
   "source": [
    "y = y.map({'Short stay': 1, 'Long stay': 0})"
   ]
  },
  {
   "cell_type": "code",
   "execution_count": 14,
   "id": "bfd12da5",
   "metadata": {},
   "outputs": [
    {
     "name": "stdout",
     "output_type": "stream",
     "text": [
      "1    11942983\n",
      "0      779233\n",
      "Name: LOS_Category, dtype: int64\n"
     ]
    }
   ],
   "source": [
    "print(y.value_counts())"
   ]
  },
  {
   "cell_type": "markdown",
   "id": "c9ffcd29",
   "metadata": {},
   "source": [
    "# Step 2: Split Data"
   ]
  },
  {
   "cell_type": "code",
   "execution_count": 15,
   "id": "d90d9e4f",
   "metadata": {},
   "outputs": [],
   "source": [
    "X_temp, X_test, y_temp, y_test = train_test_split(X, y, test_size=0.15, random_state=42, stratify=y) \n",
    "X_train, X_val, y_train, y_val = train_test_split(X_temp, y_temp, test_size=0.1765, random_state=42, stratify=y_temp)"
   ]
  },
  {
   "cell_type": "markdown",
   "id": "bdbae354",
   "metadata": {},
   "source": [
    "**Overall Proportions:**\n",
    "\n",
    "- **Test set**: 15% of the original dataset\n",
    "- **Validation set**: 0.1765 * 0.85 = 0.15 or 15% of the original dataset\n",
    "- **Training set**: 1−0.15−0.15 = 0.7 or 70% of the original dataset\n",
    "\n",
    "So, by using this two-step splitting, we've achieved a 70-15-15 split for the training, validation, and test datasets, respectively."
   ]
  },
  {
   "cell_type": "markdown",
   "id": "8f38ce23",
   "metadata": {},
   "source": [
    "# Identify SKEWED VARIABLES"
   ]
  },
  {
   "cell_type": "code",
   "execution_count": 16,
   "id": "404ab25f",
   "metadata": {},
   "outputs": [
    {
     "name": "stdout",
     "output_type": "stream",
     "text": [
      "Index(['AE_Num_Diagnoses', 'AE_Time_Mins', 'AE_Num_Treatments',\n",
      "       'AE_Num_Investigations'],\n",
      "      dtype='object')\n"
     ]
    }
   ],
   "source": [
    "# Identify skewed columns (assuming numeric columns)\n",
    "numeric_cols = X_train.select_dtypes(include=['float64', 'int64']).columns\n",
    "skewed_features = X_train[numeric_cols].apply(lambda x: x.skew()).sort_values(ascending=False)\n",
    "skewness = pd.DataFrame({'Skew': skewed_features})\n",
    "skewed_cols = skewness[abs(skewness) > 0.5].index\n",
    "\n",
    "print(skewed_cols)"
   ]
  },
  {
   "cell_type": "code",
   "execution_count": 17,
   "id": "74e0b7e3",
   "metadata": {},
   "outputs": [],
   "source": [
    "# Apply log transformation to 'AE_Time_Mins' for training data\n",
    "X_train['AE_Time_Mins'] = np.log1p(X_train['AE_Time_Mins'])\n",
    "\n",
    "# Apply log transformation to 'AE_Time_Mins' for testing data\n",
    "X_test['AE_Time_Mins'] = np.log1p(X_test['AE_Time_Mins'])\n",
    "\n",
    "# Apply log transformation to 'AE_Time_Mins' for validation data\n",
    "X_val['AE_Time_Mins'] = np.log1p(X_val['AE_Time_Mins'])"
   ]
  },
  {
   "cell_type": "markdown",
   "id": "21c1d099",
   "metadata": {},
   "source": [
    "# Step 3: One-Hot Encoding "
   ]
  },
  {
   "cell_type": "code",
   "execution_count": 18,
   "id": "98591082",
   "metadata": {},
   "outputs": [],
   "source": [
    "# Your nominal columns\n",
    "nominal_columns = ['Sex', 'AE_Arrival_Mode', 'ICD10_Chapter_Code', 'TFC', 'AE_Arrive_HourOfDay']\n",
    "\n",
    "# One-hot encoding\n",
    "X_train = pd.get_dummies(X_train, columns=nominal_columns, drop_first=True)\n",
    "X_val = pd.get_dummies(X_val, columns=nominal_columns, drop_first=True)\n",
    "X_test = pd.get_dummies(X_test, columns=nominal_columns, drop_first=True)\n",
    "\n",
    "# Get all columns in X_train after one-hot encoding\n",
    "all_columns = X_train.columns\n",
    "\n",
    "# Ensure X_val has the same columns as X_train\n",
    "for col in all_columns:\n",
    "    if col not in X_val.columns:\n",
    "        X_val[col] = 0\n",
    "\n",
    "# Ensure X_test has the same columns as X_train\n",
    "for col in all_columns:\n",
    "    if col not in X_test.columns:\n",
    "        X_test[col] = 0\n",
    "\n",
    "# Reorder columns in X_val and X_test to match X_train's order\n",
    "X_val = X_val[all_columns]\n",
    "X_test = X_test[all_columns]\n"
   ]
  },
  {
   "cell_type": "markdown",
   "id": "2b083554",
   "metadata": {},
   "source": [
    "# Step 4: Ordinal Encoding"
   ]
  },
  {
   "cell_type": "code",
   "execution_count": 19,
   "id": "ee1f56be",
   "metadata": {},
   "outputs": [],
   "source": [
    "orders = {\n",
    "    'IMD_Category': ['Most deprived 20%', '20% - 40%', '40 - 60%', '60% - 80%', 'Least deprived 20%'],\n",
    "    'Age_Band': ['01-17', '18-24', '25-44', '45-64', '65-84', '85+'],\n",
    "    'AE_HRG': ['Nothing', 'Low', 'Medium', 'High'],\n",
    "    'AE_Num_Treatments_Cat': ['low', 'medium', 'high'],\n",
    "    'AE_Num_Investigations_Cat': ['low', 'medium', 'high'],\n",
    "    'AE_Num_Diagnoses_Cat': ['none', 'low', 'medium', 'high']}\n",
    "\n",
    "# Loop through each column and its respective order to encode\n",
    "for col, order in orders.items():\n",
    "    ordinal_encoder = OrdinalEncoder(categories=[order])\n",
    "    X_train[col] = ordinal_encoder.fit_transform(X_train[[col]])\n",
    "    X_val[col] = ordinal_encoder.transform(X_val[[col]])\n",
    "    X_test[col] = ordinal_encoder.transform(X_test[[col]])"
   ]
  },
  {
   "cell_type": "markdown",
   "id": "3534a0c0",
   "metadata": {},
   "source": [
    "# Step 5: Undersampling the majority class"
   ]
  },
  {
   "cell_type": "code",
   "execution_count": 20,
   "id": "298aea5b",
   "metadata": {},
   "outputs": [
    {
     "name": "stdout",
     "output_type": "stream",
     "text": [
      "0    545444\n",
      "1    545444\n",
      "Name: LOS_Category, dtype: int64\n",
      "0    50.0\n",
      "1    50.0\n",
      "Name: LOS_Category, dtype: float64\n"
     ]
    }
   ],
   "source": [
    "# Initialize the random undersampler\n",
    "rus = RandomUnderSampler(random_state=42)\n",
    "\n",
    "# Fit and transform the data with the undersampler\n",
    "X_train_resampled, y_train_resampled = rus.fit_resample(X_train, y_train)\n",
    "\n",
    "# Counts of each class\n",
    "print(y_train_resampled.value_counts())\n",
    "\n",
    "# Proportions of each class\n",
    "print(y_train_resampled.value_counts(normalize=True) * 100)\n"
   ]
  },
  {
   "cell_type": "markdown",
   "id": "e0de50c1",
   "metadata": {},
   "source": [
    "# Step 6: Standardize Dataset"
   ]
  },
  {
   "cell_type": "code",
   "execution_count": 21,
   "id": "2f000b86",
   "metadata": {},
   "outputs": [],
   "source": [
    "# Standardize the dataset\n",
    "scaler = StandardScaler()\n",
    "X_train_scaled = scaler.fit_transform(X_train_resampled)\n",
    "X_val_scaled = scaler.transform(X_val)\n",
    "X_test_scaled = scaler.transform(X_test)"
   ]
  },
  {
   "cell_type": "markdown",
   "id": "e1da3780",
   "metadata": {},
   "source": [
    "# Step 7: RFECV\n",
    "\n",
    "Perform RFECV on the training set (not including the validation set)."
   ]
  },
  {
   "cell_type": "code",
   "execution_count": 22,
   "id": "f5af95ab",
   "metadata": {},
   "outputs": [
    {
     "data": {
      "image/png": "[encoded data removed]",
      "text/plain": [
       "<Figure size 800x550 with 1 Axes>"
      ]
     },
     "metadata": {},
     "output_type": "display_data"
    },
    {
     "name": "stdout",
     "output_type": "stream",
     "text": [
      "RFECV took 961.71 seconds.\n"
     ]
    }
   ],
   "source": [
    "from yellowbrick.model_selection import RFECV\n",
    "import xgboost as xgb\n",
    "\n",
    "# Record the start time\n",
    "start_time = time.time()\n",
    "\n",
    "# Initialize the XGBoost estimator with GPU acceleration\n",
    "estimator = xgb.XGBClassifier(\n",
    "    objective='binary:logistic',  \n",
    "    booster='gbtree',\n",
    "    tree_method='gpu_hist',  \n",
    "    random_state=42\n",
    ")\n",
    "\n",
    "# Use RFECV from Yellowbrick with the settings\n",
    "visualizer = RFECV(estimator, step=1, cv=5)\n",
    "\n",
    "# Assuming X_train_subset_scaled has been pre-scaled. If not, scale it first.\n",
    "visualizer.fit(X_train_scaled, y_train_resampled)\n",
    "\n",
    "# Set the title, x-label, and y-label before saving the figure\n",
    "plt.title(\"RFECV - Feature Selection with XGBoost on GPU\")\n",
    "plt.xlabel(\"Number of Features Selected\")\n",
    "plt.ylabel(\"Cross-Validation Score\")\n",
    "plt.savefig(results_folder / \"RFECV_XGB_GPU_V02.png\", dpi=300)\n",
    "\n",
    "# Show the visualizer\n",
    "visualizer.show()\n",
    "\n",
    "# Record the end time\n",
    "end_time = time.time()\n",
    "\n",
    "# Calculate and print the duration\n",
    "duration = end_time - start_time\n",
    "print(f\"RFECV took {duration:.2f} seconds.\")"
   ]
  },
  {
   "cell_type": "code",
   "execution_count": 23,
   "id": "5f368a4f",
   "metadata": {},
   "outputs": [
    {
     "name": "stdout",
     "output_type": "stream",
     "text": [
      "Selected Features: ['Age_Band', 'ICD10_Chapter_Code_Other', 'ICD10_Chapter_Code_X', 'ICD10_Chapter_Code_XI', 'ICD10_Chapter_Code_XIV', 'ICD10_Chapter_Code_XIX', 'ICD10_Chapter_Code_XVIII', 'TFC_180', 'TFC_300', 'TFC_420', 'TFC_OTHER']\n"
     ]
    }
   ],
   "source": [
    "# Print the features selected by RFECV\n",
    "feature_names = X_train.columns\n",
    "\n",
    "# Map the selected features to the original column names\n",
    "selected_features = [feature for mask, feature in zip(visualizer.support_, feature_names) if mask]\n",
    "\n",
    "print(\"Selected Features:\", selected_features)"
   ]
  },
  {
   "cell_type": "markdown",
   "id": "f0016266",
   "metadata": {},
   "source": [
    "# Step 8: Hyperparameter Tuning with Randomized Search CV\n",
    "\n",
    "After feature selection, use RandomizedSearchCV for hyperparameter tuning on the training set. The cross-validation within RandomizedSearchCV uses multiple train-validation splits of the training data.\n"
   ]
  },
  {
   "cell_type": "code",
   "execution_count": 24,
   "id": "5324ee0c",
   "metadata": {},
   "outputs": [
    {
     "name": "stdout",
     "output_type": "stream",
     "text": [
      "Fitting 5 folds for each of 50 candidates, totalling 250 fits\n",
      "Best parameters for XGBoost Tree: {'tree_method': 'gpu_hist', 'subsample': 0.7, 'predictor': 'gpu_predictor', 'n_estimators': 1000, 'max_depth': 7, 'learning_rate': 0.1, 'colsample_bytree': 1}\n",
      "Best ROC-AUC score for XGBoost Tree: 0.7706367032254284\n",
      "Hyperparameter tuning for XGBoost Tree took 664.29 seconds.\n"
     ]
    },
    {
     "data": {
      "text/plain": [
       "['XGBoost_folder/Version 2/Model 4/random_search_model.joblib']"
      ]
     },
     "execution_count": 24,
     "metadata": {},
     "output_type": "execute_result"
    }
   ],
   "source": [
    "# Extract columns from the scaled and resampled training set using the list of selected features\n",
    "selected_feature_indices = [X_train.columns.get_loc(feature) for feature in selected_features]\n",
    "X_train_selected_scaled = X_train_scaled[:, selected_feature_indices]\n",
    "\n",
    "param_dist = {\n",
    "    'learning_rate': [0.001, 0.01, 0.1],\n",
    "    'n_estimators': [100, 500, 1000],\n",
    "    'max_depth': [3, 5, 7, 9],\n",
    "    'subsample': [0.5, 0.7, 1],\n",
    "    'colsample_bytree': [0.5, 0.7, 1],\n",
    "    'tree_method': ['gpu_hist'],  # Use GPU accelerated algorithm\n",
    "    'predictor': ['gpu_predictor']\n",
    "}\n",
    "# Record the start time\n",
    "start_time = time.time()\n",
    "\n",
    "xgb_clf = xgb.XGBClassifier(objective='binary:logistic', eval_metric='logloss', n_jobs=-1)\n",
    "\n",
    "stratified_kfold = StratifiedKFold(n_splits=5, shuffle=True, random_state=42)\n",
    "\n",
    "# Number of random combinations to sample (n_iter) is set to 50 as a baseline.\n",
    "random_search = RandomizedSearchCV(xgb_clf, param_distributions=param_dist, n_iter=50, \n",
    "                                   cv=stratified_kfold, scoring='roc_auc', n_jobs=7, random_state=42, verbose = True)\n",
    "\n",
    "random_search.fit(X_train_selected_scaled, y_train_resampled)\n",
    "\n",
    "# Save the cv_results_ to a DataFrame and then to a CSV file\n",
    "cv_results_df = pd.DataFrame(random_search.cv_results_)\n",
    "cv_results_df.to_csv(results_folder / 'cv_results.csv', index=False)\n",
    "\n",
    "# Print results\n",
    "print(\"Best parameters for XGBoost Tree:\", random_search.best_params_)\n",
    "print(\"Best ROC-AUC score for XGBoost Tree:\", random_search.best_score_)\n",
    "\n",
    "# Record the end time\n",
    "end_time = time.time()\n",
    "duration = end_time - start_time\n",
    "print(f\"Hyperparameter tuning for XGBoost Tree took {duration:.2f} seconds.\")\n",
    "\n",
    "# Save the model\n",
    "dump(random_search, results_folder / 'random_search_model.joblib')\n"
   ]
  },
  {
   "cell_type": "markdown",
   "id": "8f89196f",
   "metadata": {},
   "source": [
    "<!-- # XGBoost with Decision Tree -->"
   ]
  },
  {
   "cell_type": "markdown",
   "id": "d5b3f687",
   "metadata": {},
   "source": [
    "# Step 9: Train the whole dataset with best hyperparameters\n"
   ]
  },
  {
   "cell_type": "code",
   "execution_count": 25,
   "id": "c50f352e-c38f-41a2-b197-d3b62b6a2ff7",
   "metadata": {},
   "outputs": [],
   "source": [
    "# Extracting selected features for validation, and test sets:\n",
    "\n",
    "X_val_selected_scaled = X_val_scaled[:, selected_feature_indices]\n",
    "X_test_selected_scaled = X_test_scaled[:, selected_feature_indices]"
   ]
  },
  {
   "cell_type": "code",
   "execution_count": 26,
   "id": "43763c09",
   "metadata": {},
   "outputs": [
    {
     "name": "stdout",
     "output_type": "stream",
     "text": [
      "Training for XGBoost took 5.05 seconds.\n"
     ]
    }
   ],
   "source": [
    "# Define the best hyperparameters\n",
    "best_params = random_search.best_params_\n",
    "\n",
    "# Record the start time\n",
    "start_time = time.time()\n",
    "\n",
    "# Train a DT model using the best hyperparameters on the training set\n",
    "best_model = xgb.XGBClassifier(**best_params)\n",
    "best_model.fit(X_train_selected_scaled, y_train_resampled)\n",
    "\n",
    "# Record the end time\n",
    "end_time = time.time()\n",
    "duration = end_time - start_time\n",
    "print(f\"Training for XGBoost took {duration:.2f} seconds.\")"
   ]
  },
  {
   "cell_type": "markdown",
   "id": "dabd8b26",
   "metadata": {},
   "source": [
    "# Step 10: Predict and Evaluate on Validation Set"
   ]
  },
  {
   "cell_type": "code",
   "execution_count": 27,
   "id": "743b618e",
   "metadata": {},
   "outputs": [
    {
     "name": "stdout",
     "output_type": "stream",
     "text": [
      "Validation Metrics:\n",
      "Accuracy: 0.6051452046497762\n",
      "ROC-AUC: 0.7707222171928325\n",
      "F1 Score: 0.7376436947665899\n",
      "Precision: 0.9802338007188887\n",
      "Recall: 0.5913061386456905\n",
      "Validating for XGBoost took 2.56 seconds.\n"
     ]
    }
   ],
   "source": [
    "# Record the start time\n",
    "start_time = time.time()\n",
    "\n",
    "y_val_pred = best_model.predict(X_val_selected_scaled)\n",
    "y_val_prob = best_model.predict_proba(X_val_selected_scaled)[:, 1]  # Probabilities for the positive class\n",
    "\n",
    "# Evaluate the performance on the validation set using multiple metrics\n",
    "val_accuracy = accuracy_score(y_val, y_val_pred)\n",
    "val_roc_auc = roc_auc_score(y_val, y_val_prob)  # Note: roc_auc_score uses probability estimates\n",
    "val_f1 = f1_score(y_val, y_val_pred)\n",
    "val_precision = precision_score(y_val, y_val_pred)\n",
    "val_recall = recall_score(y_val, y_val_pred)\n",
    "\n",
    "# Print the metrics\n",
    "print(\"Validation Metrics:\")\n",
    "print(\"Accuracy:\", val_accuracy)\n",
    "print(\"ROC-AUC:\", val_roc_auc)\n",
    "print(\"F1 Score:\", val_f1)\n",
    "print(\"Precision:\", val_precision)\n",
    "print(\"Recall:\", val_recall)\n",
    "\n",
    "# Record the end time\n",
    "end_time = time.time()\n",
    "duration = end_time - start_time\n",
    "print(f\"Validating for XGBoost took {duration:.2f} seconds.\")"
   ]
  },
  {
   "cell_type": "markdown",
   "id": "87835641",
   "metadata": {},
   "source": [
    "# Step 11: Final Model Training and Test Evaluation\n",
    "\n",
    "Finally, we train on the combined train+validation data and test on the test set."
   ]
  },
  {
   "cell_type": "code",
   "execution_count": 28,
   "id": "16730506",
   "metadata": {},
   "outputs": [
    {
     "name": "stdout",
     "output_type": "stream",
     "text": [
      "Training for XGBoost took 11.44 seconds.\n"
     ]
    }
   ],
   "source": [
    "\n",
    "# Combine the training and validation sets\n",
    "X_combined = np.concatenate([X_train_selected_scaled, X_val_selected_scaled], axis=0)\n",
    "y_combined = np.concatenate([y_train_resampled, y_val], axis=0)\n",
    "\n",
    "\n",
    "# Record the start time\n",
    "start_time = time.time()\n",
    "\n",
    "# Train the final model on the combined set\n",
    "final_model = xgb.XGBClassifier(**best_params)\n",
    "final_model.fit(X_combined, y_combined)\n",
    "\n",
    "# Record the end time\n",
    "end_time = time.time()\n",
    "duration = end_time - start_time\n",
    "print(f\"Training for XGBoost took {duration:.2f} seconds.\")"
   ]
  },
  {
   "cell_type": "code",
   "execution_count": 29,
   "id": "a43aa5c7",
   "metadata": {},
   "outputs": [
    {
     "data": {
      "text/plain": [
       "['XGBoost_folder/Version 2/Model 4/final_model_XGBoost.joblib']"
      ]
     },
     "execution_count": 29,
     "metadata": {},
     "output_type": "execute_result"
    }
   ],
   "source": [
    "# Save the model\n",
    "dump(final_model, results_folder / 'final_model_XGBoost.joblib')"
   ]
  },
  {
   "cell_type": "markdown",
   "id": "ae2c594c",
   "metadata": {},
   "source": [
    "# Step 12: Predict on test set"
   ]
  },
  {
   "cell_type": "code",
   "execution_count": 30,
   "id": "26d94e3c",
   "metadata": {},
   "outputs": [
    {
     "name": "stdout",
     "output_type": "stream",
     "text": [
      "Test Metrics:\n",
      "Accuracy: 0.932534311359705\n",
      "ROC-AUC: 0.7715990171047964\n",
      "F1 Score: 0.9649559223693669\n",
      "Precision: 0.9416413312501892\n",
      "Recall: 0.9894543408460642\n",
      "Confusion Matrix:\n",
      "[[   7030  109855]\n",
      " [  18892 1772556]]\n"
     ]
    }
   ],
   "source": [
    "\n",
    "# Predict on the test set\n",
    "y_test_pred = final_model.predict(X_test_selected_scaled)\n",
    "y_test_prob = final_model.predict_proba(X_test_selected_scaled)[:, 1]  # Probabilities for the positive class\n",
    "\n",
    "# Evaluate the performance on the test set using multiple metrics\n",
    "test_accuracy = accuracy_score(y_test, y_test_pred)\n",
    "test_roc_auc = roc_auc_score(y_test, y_test_prob)\n",
    "test_f1 = f1_score(y_test, y_test_pred)\n",
    "test_precision = precision_score(y_test, y_test_pred)\n",
    "test_recall = recall_score(y_test, y_test_pred)\n",
    "test_conf_matrix = confusion_matrix(y_test, y_test_pred)\n",
    "\n",
    "# Print the metrics\n",
    "print(\"Test Metrics:\")\n",
    "print(\"Accuracy:\", test_accuracy)\n",
    "print(\"ROC-AUC:\", test_roc_auc)\n",
    "print(\"F1 Score:\", test_f1)\n",
    "print(\"Precision:\", test_precision)\n",
    "print(\"Recall:\", test_recall)\n",
    "print(\"Confusion Matrix:\")\n",
    "print(test_conf_matrix)"
   ]
  },
  {
   "cell_type": "markdown",
   "id": "c2ad2140",
   "metadata": {},
   "source": [
    "# Step 13: Save the metrics"
   ]
  },
  {
   "cell_type": "code",
   "execution_count": 31,
   "id": "c439965a",
   "metadata": {},
   "outputs": [
    {
     "name": "stdout",
     "output_type": "stream",
     "text": [
      "Metrics saved to: XGBoost_folder/Version 2/Model 4/Model4_Performance_metrics.csv\n"
     ]
    }
   ],
   "source": [
    "# Save all metrics in a csv file\n",
    "\n",
    "metrics = {\n",
    "    \"ROC-AUC Test\": test_roc_auc ,\n",
    "    \"Accuracy\": test_accuracy,\n",
    "    \"Precision\": test_precision,\n",
    "    \"Recall\": test_recall,\n",
    "    \"F1 Score\": test_f1,\n",
    "    \"Confusion Matrix\": test_conf_matrix\n",
    "}\n",
    "\n",
    "# Convert the metrics to a DataFrame\n",
    "metrics_df = pd.DataFrame(list(metrics.items()), columns=['Metric', 'Value'])\n",
    "\n",
    "# Save to CSV\n",
    "output_path = results_folder / \"Model4_Performance_metrics.csv\"\n",
    "metrics_df.to_csv(output_path, index=False)\n",
    "\n",
    "print(f\"Metrics saved to: {output_path}\")"
   ]
  },
  {
   "cell_type": "markdown",
   "id": "dea39050",
   "metadata": {},
   "source": [
    "# ROC-AUC Curve"
   ]
  },
  {
   "cell_type": "code",
   "execution_count": 32,
   "id": "ec599503",
   "metadata": {},
   "outputs": [
    {
     "data": {
      "image/png": "[encoded data removed]",
      "text/plain": [
       "<Figure size 800x550 with 1 Axes>"
      ]
     },
     "metadata": {},
     "output_type": "display_data"
    }
   ],
   "source": [
    "# y_test_prob contains the predicted probabilities for the positive class\n",
    "fpr, tpr, _ = roc_curve(y_test, y_test_prob)\n",
    "roc_auc = roc_auc_score(y_test, y_test_prob)\n",
    "\n",
    "plt.figure()\n",
    "lw = 2\n",
    "plt.plot(fpr, tpr, color='darkorange', lw=lw, label='ROC curve (area = %0.3f)' % roc_auc)\n",
    "plt.plot([0, 1], [0, 1], color='navy', lw=lw, linestyle='--')\n",
    "plt.xlim([0.0, 1.0])\n",
    "plt.ylim([0.0, 1.05])\n",
    "plt.xlabel('False Positive Rate')\n",
    "plt.ylabel('True Positive Rate')\n",
    "plt.title('Receiver Operating Characteristic Curve')\n",
    "plt.legend(loc=\"lower right\")\n",
    "\n",
    "plt.savefig(results_folder / \"ROC_AUC_plot.png\", dpi=300)\n",
    "plt.show()\n"
   ]
  },
  {
   "cell_type": "markdown",
   "id": "ab0c366f",
   "metadata": {},
   "source": [
    "# Precision-Recall Curve"
   ]
  },
  {
   "cell_type": "code",
   "execution_count": 33,
   "id": "8c4e8770",
   "metadata": {},
   "outputs": [
    {
     "data": {
      "image/png": "[encoded data removed]",
      "text/plain": [
       "<Figure size 800x550 with 1 Axes>"
      ]
     },
     "metadata": {},
     "output_type": "display_data"
    }
   ],
   "source": [
    "precision, recall, _ = precision_recall_curve(y_test, y_test_prob)\n",
    "average_precision = average_precision_score(y_test, y_test_prob)\n",
    "\n",
    "plt.figure()\n",
    "plt.plot(recall, precision, label='AP (Area = %0.3f)' % average_precision)\n",
    "plt.xlabel('Recall')\n",
    "plt.ylabel('Precision')\n",
    "plt.title('Precision-Recall Curve')\n",
    "plt.legend(loc=\"upper right\")\n",
    "plt.savefig(results_folder / \"Precision_Recall_plot.png\", dpi=300)\n",
    "plt.show()"
   ]
  },
  {
   "cell_type": "markdown",
   "id": "291af3de",
   "metadata": {},
   "source": [
    "# Calculate Error"
   ]
  },
  {
   "cell_type": "code",
   "execution_count": 34,
   "id": "f93f37c2",
   "metadata": {},
   "outputs": [
    {
     "name": "stdout",
     "output_type": "stream",
     "text": [
      "Combined Error: 0.216\n",
      "Validation Error: 0.068\n",
      "Test Error: 0.067\n"
     ]
    }
   ],
   "source": [
    "# Predict on training set\n",
    "y_combined_pred = final_model.predict(X_combined)\n",
    "combined_accuracy = accuracy_score(y_combined, y_combined_pred)\n",
    "combined_error = 1 - combined_accuracy\n",
    "\n",
    "# Predict on validation set\n",
    "y_val_pred = final_model.predict(X_val_selected_scaled)\n",
    "val_accuracy = accuracy_score(y_val, y_val_pred)\n",
    "val_error = 1 - val_accuracy\n",
    "\n",
    "# Predict on test set\n",
    "y_test_pred = final_model.predict(X_test_selected_scaled)\n",
    "test_accuracy = accuracy_score(y_test, y_test_pred)\n",
    "test_error = 1 - test_accuracy\n",
    "\n",
    "print(f\"Combined Error: {combined_error:.3f}\")\n",
    "print(f\"Validation Error: {val_error:.3f}\")\n",
    "print(f\"Test Error: {test_error:.3f}\")\n",
    "\n",
    "# Create a DataFrame to store the metrics\n",
    "metrics_df = pd.DataFrame({\n",
    "    'Metric': ['Combined Error', 'Validation Error', 'Test Error'],\n",
    "    'Value': [combined_error, val_error, test_error]\n",
    "})\n",
    "\n",
    "# Save the DataFrame to a CSV file\n",
    "metrics_df.to_csv(results_folder / 'Model_Metrics.csv', index=False)"
   ]
  },
  {
   "cell_type": "markdown",
   "id": "78270b2b",
   "metadata": {},
   "source": []
  },
  {
   "cell_type": "markdown",
   "id": "83cee6d5",
   "metadata": {},
   "source": [
    "# Feature Importance\n",
    "\n"
   ]
  },
  {
   "cell_type": "code",
   "execution_count": 35,
   "id": "a3c23007",
   "metadata": {},
   "outputs": [
    {
     "data": {
      "image/png": "[encoded data removed]",
      "text/plain": [
       "<Figure size 1000x700 with 1 Axes>"
      ]
     },
     "metadata": {},
     "output_type": "display_data"
    }
   ],
   "source": [
    "# Retrieve Feature Importance\n",
    "importances = final_model.feature_importances_\n",
    "\n",
    "# Match Feature Importance to Feature Names:\n",
    "feature_names = [X_train.columns[i] for i in selected_feature_indices]\n",
    "\n",
    "# Sort Features by Importance:\n",
    "sorted_idx = np.argsort(importances)[::-1]\n",
    "\n",
    "# Plot\n",
    "\n",
    "plt.figure(figsize=(10, 7))\n",
    "plt.barh(feature_names, importances[sorted_idx])\n",
    "plt.xlabel(\"Importance\")\n",
    "plt.ylabel(\"Feature\")\n",
    "plt.title(\"Feature Importance from XGBoost\")\n",
    "plt.gca().invert_yaxis()  # To display the most important feature at the top\n",
    "plt.savefig(results_folder / \"Feature_Importance.png\", dpi=300)\n",
    "plt.show()"
   ]
  },
  {
   "cell_type": "code",
   "execution_count": 36,
   "id": "6fc3ff9c",
   "metadata": {},
   "outputs": [],
   "source": [
    "# Create a DataFrame to hold feature names and their corresponding importance scores\n",
    "feature_importance_df = pd.DataFrame({\n",
    "    'Feature': feature_names,\n",
    "    'Importance': importances\n",
    "})\n",
    "\n",
    "# Sort the DataFrame based on the importance scores\n",
    "feature_importance_df = feature_importance_df.sort_values(by='Importance', ascending=False)\n",
    "\n",
    "# Save the DataFrame to a CSV file\n",
    "feature_importance_df.to_csv(results_folder / 'Feature_Importance.csv', index=False)"
   ]
  }
 ],
 "metadata": {
  "kernelspec": {
   "display_name": "Python 3 (ipykernel)",
   "language": "python",
   "name": "python3"
  },
  "language_info": {
   "codemirror_mode": {
    "name": "ipython",
    "version": 3
   },
   "file_extension": ".py",
   "mimetype": "text/x-python",
   "name": "python",
   "nbconvert_exporter": "python",
   "pygments_lexer": "ipython3",
   "version": "3.10.9"
  }
 },
 "nbformat": 4,
 "nbformat_minor": 5
}
